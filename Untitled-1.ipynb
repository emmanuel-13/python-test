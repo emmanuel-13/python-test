{
 "cells": [
  {
   "cell_type": "code",
   "execution_count": 1,
   "metadata": {},
   "outputs": [
    {
     "name": "stdout",
     "output_type": "stream",
     "text": [
      "A\n"
     ]
    }
   ],
   "source": [
    "# grading system in python\n",
    "score = 90\n",
    "if score >= 90 and score <= 100:\n",
    "    grade=\"A\"\n",
    "elif score >= 80 and score < 90:\n",
    "    grade='B'\n",
    "elif score >= 70 and score < 80:\n",
    "    grade= \"C\"\n",
    "elif score >= 70 and score <= 60:\n",
    "    grade=\"D\"\n",
    "else:\n",
    "    grade= \"F\"\n",
    "    \n",
    "print(grade)"
   ]
  },
  {
   "cell_type": "code",
   "execution_count": null,
   "metadata": {},
   "outputs": [],
   "source": []
  }
 ],
 "metadata": {
  "kernelspec": {
   "display_name": "Python 3",
   "language": "python",
   "name": "python3"
  },
  "language_info": {
   "codemirror_mode": {
    "name": "ipython",
    "version": 3
   },
   "file_extension": ".py",
   "mimetype": "text/x-python",
   "name": "python",
   "nbconvert_exporter": "python",
   "pygments_lexer": "ipython3",
   "version": "3.9.13"
  }
 },
 "nbformat": 4,
 "nbformat_minor": 2
}
